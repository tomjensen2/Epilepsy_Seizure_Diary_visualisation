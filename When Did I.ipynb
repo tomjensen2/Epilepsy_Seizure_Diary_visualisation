{
 "cells": [
  {
   "cell_type": "markdown",
   "metadata": {},
   "source": [
    "## Seizure Diary Notebook\n",
    " Import Modules"
   ]
  },
  {
   "cell_type": "code",
   "execution_count": 1,
   "metadata": {
    "trusted": true
   },
   "outputs": [],
   "source": [
    "import pandas as pd\n",
    "import seaborn as sns\n",
    "import ipywidgets as widgets\n",
    "import datetime\n",
    "import numpy as np\n",
    "import warnings"
   ]
  },
  {
   "cell_type": "markdown",
   "metadata": {},
   "source": [
    " Parse Seizure Diary File and plot data"
   ]
  },
  {
   "cell_type": "code",
   "execution_count": 2,
   "metadata": {
    "trusted": true
   },
   "outputs": [
    {
     "data": {
      "application/vnd.jupyter.widget-view+json": {
       "model_id": "23412f800028412b992702e405a4f152",
       "version_major": 2,
       "version_minor": 0
      },
      "text/plain": [
       "interactive(children=(DatePicker(value=datetime.date(2023, 7, 1), description='Start Date'), SelectMultiple(de…"
      ]
     },
     "metadata": {},
     "output_type": "display_data"
    }
   ],
   "source": [
    "import pandas as pd\n",
    "import numpy as np\n",
    "import matplotlib.pyplot as plt\n",
    "import matplotlib.gridspec as gridspec\n",
    "import datetime\n",
    "import ipywidgets as widgets\n",
    "\n",
    "def multi(a, b, c, d, f):\n",
    "    \n",
    "    # Read the data\n",
    "    df = pd.read_csv('Pruned_When-Did-I.csv', index_col=2, parse_dates=True)\n",
    "    df = df.loc[df['Note'] != \"NHNN VT\"]  # Exclude certain rows\n",
    "\n",
    "    # Identify occurrences of 'drug changes'\n",
    "    specific_action_df = df[df['Action'] == 'Change Cenobamate']\n",
    "    specific_action_df1 = df[df['Action'] == 'Change Vimpat dose']\n",
    "    specific_action_df2 = df[df['Action'] == 'Reduce my lamotrogine last']\n",
    "    specific_action_df3 = df[df['Action'] == 'Reduce Clobazam']\n",
    "    \n",
    "    # Identify occurrences of seizure types\n",
    "    types = list(b)\n",
    "    df = df[df['Action'].isin(types)]\n",
    "\n",
    "    # Convert the datetime column to a pandas datetime object\n",
    "    df['datetime'] = df.index\n",
    "    df['hour'] = df['datetime'].dt.hour\n",
    "    df['dayofweek'] = df['datetime'].dt.dayofweek\n",
    "\n",
    "    # Filter by date range\n",
    "    startdate = pd.to_datetime(a)\n",
    "    enddate = pd.to_datetime(c)\n",
    "    df = df[(df['datetime'] >= startdate) & (df['datetime'] < enddate)]\n",
    "\n",
    "    # Create a complete range of periods\n",
    "    if d == 'Weekly':\n",
    "        period_freq = 'W'\n",
    "        label_format = '%b %Y'  # Month Year format\n",
    "    elif d=='Monthly':\n",
    "        period_freq = 'M'\n",
    "        label_format = '%b %Y'\n",
    "    elif d=='Daily':\n",
    "        period_freq = 'D'\n",
    "        label_format = '%b %Y'\n",
    "\n",
    "    all_periods = pd.period_range(start=startdate, end=enddate, freq=period_freq)\n",
    "\n",
    "    # Group the data by period\n",
    "    df['period'] = df['datetime'].dt.to_period(freq=period_freq)\n",
    "    grouped = df.groupby('period').apply(lambda x: np.histogram(x['hour'], bins=range(25))[0])\n",
    "    grouped_df = pd.DataFrame(grouped.tolist(), index=grouped.index)\n",
    "\n",
    "    # Merge with the complete periods\n",
    "    complete_grouped_df = grouped_df.reindex(all_periods, fill_value=0)\n",
    "\n",
    "    # Visualization\n",
    "    fig = plt.figure(figsize=(12, 9))\n",
    "    gs = gridspec.GridSpec(2, 2, height_ratios=[1, 4], width_ratios=[20, 1])\n",
    "\n",
    "    # Axes for the histogram\n",
    "    ax0 = plt.subplot(gs[0, 0])\n",
    "\n",
    "    # Axes for the heatmap\n",
    "    ax1 = plt.subplot(gs[1, 0])\n",
    "\n",
    "    # Axes for the colorbar (aligned with the heatmap)\n",
    "    ax2 = plt.subplot(gs[1, 1])\n",
    "\n",
    "    # Plotting Histogram for Counts\n",
    "    ax0.bar(complete_grouped_df.index.astype(str), complete_grouped_df.sum(axis=1), color='blue')\n",
    "    ax0.set_title(f'{d} Seizure Count')\n",
    "    ax0.set_xticklabels([])  # Remove x-tick labels\n",
    "    ax0.set_ylabel('Count')\n",
    "    ax0.set_xlim([-0.5, len(complete_grouped_df.index) - 0.5])  # Align x-axis with heatmap\n",
    "\n",
    "    # Plot Heatmap\n",
    "\n",
    "    im = ax1.imshow(complete_grouped_df.T, aspect='auto', cmap='viridis',vmin=-0, vmax=3)  # Transpose the DataFrame\n",
    "    ax1.set_title(f'{d} Seizure Counts by Hour of Day')\n",
    "    ax1.set_xlabel('Period')\n",
    "\n",
    "\n",
    "    # Only label the first week of each month\n",
    "    if d == 'Weekly':\n",
    "        labels = [''] * len(all_periods)\n",
    "        previous_month = None\n",
    "        for i, period in enumerate(all_periods):\n",
    "            if period.month != previous_month:\n",
    "                labels[i] = period.strftime('%b %Y')\n",
    "                previous_month = period.month\n",
    "    else:  # If it's monthly, label each month\n",
    "        labels = [period.strftime('%b %Y') for period in all_periods]\n",
    "\n",
    "    ax1.set_xticks(np.arange(len(all_periods)))\n",
    "    ax1.set_xticklabels(labels, rotation=90)\n",
    "    ax1.set_ylabel('Hour of Day')\n",
    "    index=[]\n",
    "\n",
    "    # add datetime to spec actions\n",
    "    specific_action_df['datetime'] = specific_action_df.index\n",
    "    specific_action_df1['datetime'] = specific_action_df1.index\n",
    "    specific_action_df2['datetime'] = specific_action_df2.index\n",
    "    specific_action_df3['datetime'] = specific_action_df3.index\n",
    "    \n",
    "    # Add a new column for period index\n",
    "    def get_period_index(date):\n",
    "        period = date.to_period(freq=period_freq)\n",
    "        if period in all_periods:\n",
    "            return np.where(all_periods == period)[0][0]\n",
    "        else:\n",
    "            return None\n",
    "\n",
    "    specific_action_df['period_index'] = specific_action_df['datetime'].apply(get_period_index)\n",
    "    specific_action_df1['period_index'] = specific_action_df1['datetime'].apply(get_period_index)\n",
    "    specific_action_df2['period_index'] = specific_action_df2['datetime'].apply(get_period_index)\n",
    "    specific_action_df3['period_index'] = specific_action_df3['datetime'].apply(get_period_index)\n",
    "    \n",
    "    if f == 'Yes':\n",
    "        ax1.text(1, 10, 'CNB', ha='center', va='center', color='white',fontsize=16)\n",
    "        for i in range(1,len(specific_action_df)):\n",
    "            if specific_action_df['period_index'][i] is not None and np.isfinite(specific_action_df['period_index'][i]):\n",
    "        # Annotate specific actions on the heatmap\n",
    "                note=specific_action_df['Note'][i]\n",
    "                ax1.text(specific_action_df['period_index'][i], 11, note, ha='center', va='center', color='white',fontsize=14)\n",
    "\n",
    "        #ax1.text(2, 13, 'LAC 600', ha='center', va='center', color='red',fontsize=16)\n",
    "        for i in range(1,len(specific_action_df1)):\n",
    "            if specific_action_df1['period_index'][i] is not None and np.isfinite(specific_action_df1['period_index'][i]):\n",
    "        # Annotate specific actions on the heatmap\n",
    "                note=specific_action_df1['Note'][i]\n",
    "                ax1.text(specific_action_df1['period_index'][i], 13, note, ha='center', va='center', color='red',fontsize=14)\n",
    "        \n",
    "   # Add colorbar\n",
    "    plt.colorbar(im, cax=ax2)\n",
    "\n",
    "    plt.tight_layout()\n",
    "    plt.show()\n",
    "\n",
    "\n",
    "    return specific_action_df,df,all_periods\n",
    "\n",
    "    \n",
    "\n",
    "# Example usage with widgets\n",
    "a = widgets.DatePicker(description='Start Date', value=datetime.date.today() - pd.Timedelta(days=365))\n",
    "b = widgets.SelectMultiple(\n",
    "    options=['Standard nighttime Seizure', 'Seizure from Wakefulness', 'Have continuous focal SE'],\n",
    "    value=['Standard nighttime Seizure', 'Seizure from Wakefulness'],\n",
    "    description='Seizures to Display',\n",
    "    disabled=False\n",
    ")\n",
    "c = widgets.DatePicker(description='End Date', value=datetime.date.today()+ datetime.timedelta(days=1))\n",
    "d = widgets.RadioButtons(\n",
    "    options=['Weekly', 'Monthly','Daily'],\n",
    "    description='Binning:',\n",
    "    disabled=False\n",
    ")\n",
    "f = widgets.RadioButtons(\n",
    "    options=['Yes', 'No'],\n",
    "    description='Show Meds:',\n",
    "    disabled=False\n",
    ")\n",
    "# Suppress warnings for finite values\n",
    "with warnings.catch_warnings():\n",
    "    warnings.simplefilter(\"ignore\")\n",
    "        \n",
    "e = widgets.interactive(multi, a=a, b=b, c=c, d=d,f=f)\n",
    "display(e)\n"
   ]
  },
  {
   "cell_type": "code",
   "execution_count": 3,
   "metadata": {
    "trusted": false
   },
   "outputs": [
    {
     "data": {
      "text/plain": [
       "Icon           96\n",
       "Action         96\n",
       "Time Zone      96\n",
       "City Name       0\n",
       "Address         0\n",
       "Coordinates     0\n",
       "Note            1\n",
       "datetime       96\n",
       "hour           96\n",
       "dayofweek      96\n",
       "period         96\n",
       "dtype: int64"
      ]
     },
     "execution_count": 3,
     "metadata": {},
     "output_type": "execute_result"
    }
   ],
   "source": [
    "e.result[1].count()"
   ]
  },
  {
   "cell_type": "code",
   "execution_count": null,
   "metadata": {
    "trusted": false
   },
   "outputs": [],
   "source": []
  },
  {
   "cell_type": "markdown",
   "metadata": {},
   "source": [
    "Import Apple Watch Health Data"
   ]
  },
  {
   "cell_type": "code",
   "execution_count": 3,
   "metadata": {
    "trusted": false
   },
   "outputs": [],
   "source": [
    "import xml.etree.ElementTree as ET\n",
    "# create element tree object\n",
    "tree = ET.parse('apple_health_export/export.xml') \n",
    "# for every health record, extract the attributes\n",
    "root = tree.getroot()\n",
    "\n",
    "workout_list = [x.attrib for x in root.iter('Workout')]\n",
    "\n",
    "# create DataFrame\n",
    "workout_data = pd.DataFrame(workout_list)\n",
    "workout_data['workoutActivityType'] = workout_data['workoutActivityType'].str.replace('HKWorkoutActivityType', '')\n",
    "workout_data = workout_data.rename({\"workoutActivityType\": \"Type\"}, axis=1)\n",
    "\n",
    "# proper type to dates\n",
    "for col in ['creationDate', 'startDate', 'endDate']:\n",
    "    workout_data[col] = pd.to_datetime(workout_data[col])\n",
    "\n",
    "# convert string to numeric   \n",
    "workout_data['duration'] = pd.to_numeric(workout_data['duration'])\n",
    "workout_data_reduced=workout_data.loc[workout_data['startDate']>a.value.isoformat()]\n",
    "workout_data_reduced=workout_data_reduced.loc[workout_data_reduced['startDate']<c.value.isoformat()]\n",
    "\n",
    "# record_list = [x.attrib for x in root.iter('Record')]\n",
    "# record_data = pd.DataFrame(record_list)\n",
    "# # proper type to dates\n",
    "# for col in ['creationDate', 'startDate', 'endDate']:\n",
    "#     record_data[col] = pd.to_datetime(record_data[col])\n",
    "\n",
    "# # value is numeric, NaN if fails\n",
    "# record_data['value'] = pd.to_numeric(record_data['value'], errors='coerce')\n",
    "\n",
    "# # some records do not measure anything, just count occurences\n",
    "# # filling with 1.0 (= one time) makes it easier to aggregate\n",
    "# record_data['value'] = record_data['value'].fillna(1.0)\n",
    "\n",
    "# # shorter observation names\n",
    "# record_data['type'] = record_data['type'].str.replace('HKQuantityTypeIdentifier', '')\n",
    "# record_data['type'] = record_data['type'].str.replace('HKCategoryTypeIdentifier', '')\n",
    "workout_list = [x.attrib for x in root.iter('Workout')]\n",
    "\n",
    "# create DataFrame\n",
    "workout_data = pd.DataFrame(workout_list)\n",
    "workout_data['workoutActivityType'] = workout_data['workoutActivityType'].str.replace('HKWorkoutActivityType', '')\n",
    "workout_data = workout_data.rename({\"workoutActivityType\": \"Type\"}, axis=1)\n",
    "\n",
    "# proper type to dates\n",
    "for col in ['creationDate', 'startDate', 'endDate']:\n",
    "    workout_data[col] = pd.to_datetime(workout_data[col])\n",
    "\n",
    "# convert string to numeric   \n",
    "workout_data['duration'] = pd.to_numeric(workout_data['duration'])\n",
    "# workout_data['totalDistance'] = pd.to_numeric(workout_data['totalDistance'])\n",
    "workout_data_reduced=workout_data.loc[workout_data['startDate']>a.value.isoformat()]\n",
    "workout_data_reduced=workout_data_reduced.loc[workout_data_reduced['startDate']<c.value.isoformat()]\n"
   ]
  },
  {
   "cell_type": "code",
   "execution_count": null,
   "metadata": {
    "trusted": false
   },
   "outputs": [],
   "source": []
  },
  {
   "cell_type": "code",
   "execution_count": 3,
   "metadata": {
    "trusted": false
   },
   "outputs": [
    {
     "ename": "ValueError",
     "evalue": "The truth value of a DataFrame is ambiguous. Use a.empty, a.bool(), a.item(), a.any() or a.all().",
     "output_type": "error",
     "traceback": [
      "\u001b[0;31m---------------------------------------------------------------------------\u001b[0m",
      "\u001b[0;31mValueError\u001b[0m                                Traceback (most recent call last)",
      "\u001b[0;32m<ipython-input-3-567cdeba38b1>\u001b[0m in \u001b[0;36m<module>\u001b[0;34m\u001b[0m\n\u001b[0;32m----> 1\u001b[0;31m ax1=sns.displot(data=e.result, \n\u001b[0m\u001b[1;32m      2\u001b[0m             \u001b[0mx\u001b[0m\u001b[0;34m=\u001b[0m\u001b[0;34m'hour'\u001b[0m\u001b[0;34m,\u001b[0m\u001b[0;34m\u001b[0m\u001b[0;34m\u001b[0m\u001b[0m\n\u001b[1;32m      3\u001b[0m             \u001b[0mrug\u001b[0m\u001b[0;34m=\u001b[0m\u001b[0;32mTrue\u001b[0m\u001b[0;34m,\u001b[0m\u001b[0;34m\u001b[0m\u001b[0;34m\u001b[0m\u001b[0m\n\u001b[1;32m      4\u001b[0m             \u001b[0mkind\u001b[0m\u001b[0;34m=\u001b[0m\u001b[0;34m\"hist\"\u001b[0m\u001b[0;34m,\u001b[0m\u001b[0;34m\u001b[0m\u001b[0;34m\u001b[0m\u001b[0m\n\u001b[1;32m      5\u001b[0m             \u001b[0mkde\u001b[0m\u001b[0;34m=\u001b[0m\u001b[0;32mTrue\u001b[0m\u001b[0;34m,\u001b[0m\u001b[0;34m\u001b[0m\u001b[0;34m\u001b[0m\u001b[0m\n",
      "\u001b[0;32m/var/mobile/Containers/Data/Application/A1B740CE-0698-43CE-83F4-ECC290BED3F0/Documents/site-packages/seaborn/distributions.py\u001b[0m in \u001b[0;36mdisplot\u001b[0;34m(data, x, y, hue, row, col, weights, kind, rug, rug_kws, log_scale, legend, palette, hue_order, hue_norm, color, col_wrap, row_order, col_order, height, aspect, facet_kws, **kwargs)\u001b[0m\n\u001b[1;32m   2123\u001b[0m ):\n\u001b[1;32m   2124\u001b[0m \u001b[0;34m\u001b[0m\u001b[0m\n\u001b[0;32m-> 2125\u001b[0;31m     p = _DistributionFacetPlotter(\n\u001b[0m\u001b[1;32m   2126\u001b[0m         \u001b[0mdata\u001b[0m\u001b[0;34m=\u001b[0m\u001b[0mdata\u001b[0m\u001b[0;34m,\u001b[0m\u001b[0;34m\u001b[0m\u001b[0;34m\u001b[0m\u001b[0m\n\u001b[1;32m   2127\u001b[0m         \u001b[0mvariables\u001b[0m\u001b[0;34m=\u001b[0m\u001b[0m_DistributionFacetPlotter\u001b[0m\u001b[0;34m.\u001b[0m\u001b[0mget_semantics\u001b[0m\u001b[0;34m(\u001b[0m\u001b[0mlocals\u001b[0m\u001b[0;34m(\u001b[0m\u001b[0;34m)\u001b[0m\u001b[0;34m)\u001b[0m\u001b[0;34m\u001b[0m\u001b[0;34m\u001b[0m\u001b[0m\n",
      "\u001b[0;32m/var/mobile/Containers/Data/Application/A1B740CE-0698-43CE-83F4-ECC290BED3F0/Documents/site-packages/seaborn/distributions.py\u001b[0m in \u001b[0;36m__init__\u001b[0;34m(self, data, variables)\u001b[0m\n\u001b[1;32m    111\u001b[0m     ):\n\u001b[1;32m    112\u001b[0m \u001b[0;34m\u001b[0m\u001b[0m\n\u001b[0;32m--> 113\u001b[0;31m         \u001b[0msuper\u001b[0m\u001b[0;34m(\u001b[0m\u001b[0;34m)\u001b[0m\u001b[0;34m.\u001b[0m\u001b[0m__init__\u001b[0m\u001b[0;34m(\u001b[0m\u001b[0mdata\u001b[0m\u001b[0;34m=\u001b[0m\u001b[0mdata\u001b[0m\u001b[0;34m,\u001b[0m \u001b[0mvariables\u001b[0m\u001b[0;34m=\u001b[0m\u001b[0mvariables\u001b[0m\u001b[0;34m)\u001b[0m\u001b[0;34m\u001b[0m\u001b[0;34m\u001b[0m\u001b[0m\n\u001b[0m\u001b[1;32m    114\u001b[0m \u001b[0;34m\u001b[0m\u001b[0m\n\u001b[1;32m    115\u001b[0m     \u001b[0;34m@\u001b[0m\u001b[0mproperty\u001b[0m\u001b[0;34m\u001b[0m\u001b[0;34m\u001b[0m\u001b[0m\n",
      "\u001b[0;32m/var/mobile/Containers/Data/Application/A1B740CE-0698-43CE-83F4-ECC290BED3F0/Documents/site-packages/seaborn/_oldcore.py\u001b[0m in \u001b[0;36m__init__\u001b[0;34m(self, data, variables)\u001b[0m\n\u001b[1;32m    638\u001b[0m         \u001b[0;31m# information for numeric axes would be information about log scales.\u001b[0m\u001b[0;34m\u001b[0m\u001b[0;34m\u001b[0m\u001b[0m\n\u001b[1;32m    639\u001b[0m         \u001b[0mself\u001b[0m\u001b[0;34m.\u001b[0m\u001b[0m_var_ordered\u001b[0m \u001b[0;34m=\u001b[0m \u001b[0;34m{\u001b[0m\u001b[0;34m\"x\"\u001b[0m\u001b[0;34m:\u001b[0m \u001b[0;32mFalse\u001b[0m\u001b[0;34m,\u001b[0m \u001b[0;34m\"y\"\u001b[0m\u001b[0;34m:\u001b[0m \u001b[0;32mFalse\u001b[0m\u001b[0;34m}\u001b[0m  \u001b[0;31m# alt., used DefaultDict\u001b[0m\u001b[0;34m\u001b[0m\u001b[0;34m\u001b[0m\u001b[0m\n\u001b[0;32m--> 640\u001b[0;31m         \u001b[0mself\u001b[0m\u001b[0;34m.\u001b[0m\u001b[0massign_variables\u001b[0m\u001b[0;34m(\u001b[0m\u001b[0mdata\u001b[0m\u001b[0;34m,\u001b[0m \u001b[0mvariables\u001b[0m\u001b[0;34m)\u001b[0m\u001b[0;34m\u001b[0m\u001b[0;34m\u001b[0m\u001b[0m\n\u001b[0m\u001b[1;32m    641\u001b[0m \u001b[0;34m\u001b[0m\u001b[0m\n\u001b[1;32m    642\u001b[0m         \u001b[0;32mfor\u001b[0m \u001b[0mvar\u001b[0m\u001b[0;34m,\u001b[0m \u001b[0mcls\u001b[0m \u001b[0;32min\u001b[0m \u001b[0mself\u001b[0m\u001b[0;34m.\u001b[0m\u001b[0m_semantic_mappings\u001b[0m\u001b[0;34m.\u001b[0m\u001b[0mitems\u001b[0m\u001b[0;34m(\u001b[0m\u001b[0;34m)\u001b[0m\u001b[0;34m:\u001b[0m\u001b[0;34m\u001b[0m\u001b[0;34m\u001b[0m\u001b[0m\n",
      "\u001b[0;32m/var/mobile/Containers/Data/Application/A1B740CE-0698-43CE-83F4-ECC290BED3F0/Documents/site-packages/seaborn/_oldcore.py\u001b[0m in \u001b[0;36massign_variables\u001b[0;34m(self, data, variables)\u001b[0m\n\u001b[1;32m    699\u001b[0m         \u001b[0;32melse\u001b[0m\u001b[0;34m:\u001b[0m\u001b[0;34m\u001b[0m\u001b[0;34m\u001b[0m\u001b[0m\n\u001b[1;32m    700\u001b[0m             \u001b[0mself\u001b[0m\u001b[0;34m.\u001b[0m\u001b[0minput_format\u001b[0m \u001b[0;34m=\u001b[0m \u001b[0;34m\"long\"\u001b[0m\u001b[0;34m\u001b[0m\u001b[0;34m\u001b[0m\u001b[0m\n\u001b[0;32m--> 701\u001b[0;31m             plot_data, variables = self._assign_variables_longform(\n\u001b[0m\u001b[1;32m    702\u001b[0m                 \u001b[0mdata\u001b[0m\u001b[0;34m,\u001b[0m \u001b[0;34m**\u001b[0m\u001b[0mvariables\u001b[0m\u001b[0;34m,\u001b[0m\u001b[0;34m\u001b[0m\u001b[0;34m\u001b[0m\u001b[0m\n\u001b[1;32m    703\u001b[0m             )\n",
      "\u001b[0;32m/var/mobile/Containers/Data/Application/A1B740CE-0698-43CE-83F4-ECC290BED3F0/Documents/site-packages/seaborn/_oldcore.py\u001b[0m in \u001b[0;36m_assign_variables_longform\u001b[0;34m(self, data, **kwargs)\u001b[0m\n\u001b[1;32m    915\u001b[0m             \u001b[0;32mtry\u001b[0m\u001b[0;34m:\u001b[0m\u001b[0;34m\u001b[0m\u001b[0;34m\u001b[0m\u001b[0m\n\u001b[1;32m    916\u001b[0m                 val_as_data_key = (\n\u001b[0;32m--> 917\u001b[0;31m                     \u001b[0mval\u001b[0m \u001b[0;32min\u001b[0m \u001b[0mdata\u001b[0m\u001b[0;34m\u001b[0m\u001b[0;34m\u001b[0m\u001b[0m\n\u001b[0m\u001b[1;32m    918\u001b[0m                     \u001b[0;32mor\u001b[0m \u001b[0;34m(\u001b[0m\u001b[0misinstance\u001b[0m\u001b[0;34m(\u001b[0m\u001b[0mval\u001b[0m\u001b[0;34m,\u001b[0m \u001b[0;34m(\u001b[0m\u001b[0mstr\u001b[0m\u001b[0;34m,\u001b[0m \u001b[0mbytes\u001b[0m\u001b[0;34m)\u001b[0m\u001b[0;34m)\u001b[0m \u001b[0;32mand\u001b[0m \u001b[0mval\u001b[0m \u001b[0;32min\u001b[0m \u001b[0mindex\u001b[0m\u001b[0;34m)\u001b[0m\u001b[0;34m\u001b[0m\u001b[0;34m\u001b[0m\u001b[0m\n\u001b[1;32m    919\u001b[0m                 )\n",
      "\u001b[0;32m~/lib/python3.10/site-packages/pandas/core/generic.py\u001b[0m in \u001b[0;36m__nonzero__\u001b[0;34m(self)\u001b[0m\n\u001b[1;32m   1525\u001b[0m     \u001b[0;34m@\u001b[0m\u001b[0mfinal\u001b[0m\u001b[0;34m\u001b[0m\u001b[0;34m\u001b[0m\u001b[0m\n\u001b[1;32m   1526\u001b[0m     \u001b[0;32mdef\u001b[0m \u001b[0m__nonzero__\u001b[0m\u001b[0;34m(\u001b[0m\u001b[0mself\u001b[0m\u001b[0;34m)\u001b[0m \u001b[0;34m->\u001b[0m \u001b[0mNoReturn\u001b[0m\u001b[0;34m:\u001b[0m\u001b[0;34m\u001b[0m\u001b[0;34m\u001b[0m\u001b[0m\n\u001b[0;32m-> 1527\u001b[0;31m         raise ValueError(\n\u001b[0m\u001b[1;32m   1528\u001b[0m             \u001b[0;34mf\"The truth value of a {type(self).__name__} is ambiguous. \"\u001b[0m\u001b[0;34m\u001b[0m\u001b[0;34m\u001b[0m\u001b[0m\n\u001b[1;32m   1529\u001b[0m             \u001b[0;34m\"Use a.empty, a.bool(), a.item(), a.any() or a.all().\"\u001b[0m\u001b[0;34m\u001b[0m\u001b[0;34m\u001b[0m\u001b[0m\n",
      "\u001b[0;31mValueError\u001b[0m: The truth value of a DataFrame is ambiguous. Use a.empty, a.bool(), a.item(), a.any() or a.all()."
     ]
    }
   ],
   "source": [
    "ax1=sns.displot(data=e.result, \n",
    "            x='hour',\n",
    "            rug=True,\n",
    "            kind=\"hist\",\n",
    "            kde=True,\n",
    "           bins=48)\n",
    "ax1.set_ylabels(label='Seizure count')"
   ]
  },
  {
   "cell_type": "code",
   "execution_count": 5,
   "metadata": {
    "trusted": false
   },
   "outputs": [
    {
     "data": {
      "image/png": "[encoded data removed]",
      "text/plain": [
       "<Figure size 360x360 with 1 Axes>"
      ]
     },
     "metadata": {
      "needs_background": "light"
     },
     "output_type": "display_data"
    }
   ],
   "source": [
    "ax2=sns.displot(data=e.result, \n",
    "            x='dayofweek',\n",
    "            rug=True,\n",
    "            kind=\"hist\",\n",
    "           kde=True)"
   ]
  },
  {
   "cell_type": "code",
   "execution_count": null,
   "metadata": {
    "trusted": false
   },
   "outputs": [],
   "source": []
  }
 ],
 "metadata": {
  "kernelspec": {
   "display_name": "Python 3",
   "language": "python",
   "name": "python3"
  },
  "language_info": {
   "codemirror_mode": {
    "name": "ipython",
    "version": 3
   },
   "file_extension": ".py",
   "mimetype": "text/x-python",
   "name": "python",
   "nbconvert_exporter": "python",
   "pygments_lexer": "ipython3",
   "version": "3.7.11"
  }
 },
 "nbformat": 4,
 "nbformat_minor": 2
}
